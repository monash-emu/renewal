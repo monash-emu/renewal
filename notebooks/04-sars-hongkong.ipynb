{
 "cells": [
  {
   "cell_type": "code",
   "execution_count": null,
   "id": "0",
   "metadata": {},
   "outputs": [],
   "source": [
    "# Uncomment the line below to install on Colab or similar\n",
    "#! pip install git+https://github.com/monash-emu/wpro-working.git@more-datasets"
   ]
  },
  {
   "cell_type": "code",
   "execution_count": null,
   "id": "1",
   "metadata": {},
   "outputs": [],
   "source": [
    "import pandas as pd\n",
    "import numpy as np\n",
    "from datetime import datetime\n",
    "import numpyro\n",
    "from numpyro import distributions as dist\n",
    "from numpyro import infer\n",
    "from jax import jit, random\n",
    "import arviz as az\n",
    "from estival.sampling import tools as esamp\n",
    "from plotly.express.colors import qualitative as qual_colours\n",
    "\n",
    "from emu_renewal.outputs import get_spaghetti_from_params, get_quant_df_from_spaghetti, plot_uncertainty_patches, new_new_get_spaghetti\n",
    "from emu_renewal.process import CosineMultiCurve\n",
    "from emu_renewal.distributions import GammaDens\n",
    "from emu_renewal.renew import RenewalModel, ModelResult\n",
    "from emu_renewal.calibration import StandardCalib\n",
    "from emu_renewal.targets import StandardTarget"
   ]
  },
  {
   "cell_type": "code",
   "execution_count": null,
   "id": "2",
   "metadata": {},
   "outputs": [],
   "source": [
    "sars_data = pd.read_csv(\"https://github.com/monash-emu/wpro-working/raw/more-datasets/data/sars_hongkong/sars_2003_complete_dataset_clean.csv\", index_col=\"Date\", parse_dates=True)\n",
    "# print(\"Available countries are:\")\n",
    "# set(sars_data[\"Country\"])"
   ]
  },
  {
   "cell_type": "code",
   "execution_count": null,
   "id": "3",
   "metadata": {},
   "outputs": [],
   "source": [
    "country_req = \"Hong Kong SAR, China\"\n",
    "case_data = sars_data[sars_data[\"Country\"] == country_req][\"Cumulative number of case(s)\"].diff().rolling(4).mean().dropna()"
   ]
  },
  {
   "cell_type": "code",
   "execution_count": null,
   "id": "4",
   "metadata": {},
   "outputs": [],
   "source": [
    "# Specify fixed parameters and get calibration data\n",
    "window_len = 14\n",
    "proc_update_freq = 4\n",
    "pop = 6.7e6\n",
    "analysis_start = sars_data.index[0]\n",
    "analysis_end = datetime(2003, 5, 1)\n",
    "select_data = case_data.loc[analysis_start: analysis_end]"
   ]
  },
  {
   "cell_type": "code",
   "execution_count": null,
   "id": "5",
   "metadata": {},
   "outputs": [],
   "source": [
    "# Create exponentially increasing case counts for init_duration period before analysis starts\n",
    "# Pad with zeroes to allow looking back over the full window\n",
    "init_duration = 14\n",
    "exp_coeff = np.log(case_data.iloc[0]) / init_duration\n",
    "init_series = np.exp(exp_coeff * np.arange(init_duration))"
   ]
  },
  {
   "cell_type": "code",
   "execution_count": null,
   "id": "6",
   "metadata": {},
   "outputs": [],
   "source": [
    "fitter = CosineMultiCurve()\n",
    "renew_model = RenewalModel(33e6, analysis_start, analysis_end, proc_update_freq, fitter, GammaDens(), window_len, init_series, GammaDens())"
   ]
  },
  {
   "cell_type": "code",
   "execution_count": null,
   "id": "7",
   "metadata": {},
   "outputs": [],
   "source": [
    "# Define parameter ranges\n",
    "priors = {\n",
    "    \"gen_mean\": dist.Uniform(6.5, 10.5),\n",
    "    \"gen_sd\": dist.Uniform(3.0, 4.6),\n",
    "    \"cdr\": dist.Beta(10.0, 4.0),\n",
    "    \"rt_init\": dist.Normal(0.0, 0.25),\n",
    "}\n",
    "fixed_params = {\n",
    "    \"report_mean\": 10.0,\n",
    "    \"report_sd\": 5.0\n",
    "}"
   ]
  },
  {
   "cell_type": "code",
   "execution_count": null,
   "id": "12dc313f-7d7a-4319-b4d3-3f8fddb06f12",
   "metadata": {},
   "outputs": [],
   "source": [
    "calib_data = {\n",
    "    \"cases\": StandardTarget(select_data, 0.1)\n",
    "}"
   ]
  },
  {
   "cell_type": "code",
   "execution_count": null,
   "id": "8",
   "metadata": {},
   "outputs": [],
   "source": [
    "calib = StandardCalib(renew_model, priors | fixed_params, calib_data)\n",
    "kernel = infer.NUTS(calib.calibration, dense_mass=True, init_strategy=calib.custom_init(radius=0.5))\n",
    "mcmc = infer.MCMC(kernel, num_chains=2, num_samples=1000, num_warmup=1000)\n",
    "mcmc.run(random.PRNGKey(1))"
   ]
  },
  {
   "cell_type": "code",
   "execution_count": null,
   "id": "9",
   "metadata": {},
   "outputs": [],
   "source": [
    "idata = az.from_numpyro(mcmc)\n",
    "idata_sampled = az.extract(idata, num_samples=100)\n",
    "sample_params = esamp.xarray_to_sampleiterator(idata_sampled)"
   ]
  },
  {
   "cell_type": "code",
   "execution_count": null,
   "id": "91e814c3-4904-47b4-a8d4-a286ea25a425",
   "metadata": {},
   "outputs": [],
   "source": [
    "spaghetti = new_new_get_spaghetti(calib, sample_params)\n",
    "key_outputs = [\"weekly_sum\", \"suscept\", \"r_t\", \"process\"]\n",
    "quantiles = get_quant_df_from_spaghetti(spaghetti, quantiles=[0.05, 0.5, 0.95])"
   ]
  },
  {
   "cell_type": "code",
   "execution_count": null,
   "id": "11",
   "metadata": {},
   "outputs": [],
   "source": [
    "plot_uncertainty_patches(quantiles, select_data, qual_colours.Plotly, outputs=key_outputs)"
   ]
  },
  {
   "cell_type": "code",
   "execution_count": null,
   "id": "12",
   "metadata": {},
   "outputs": [],
   "source": [
    "az.summary(idata)"
   ]
  }
 ],
 "metadata": {
  "kernelspec": {
   "display_name": "Python 3 (ipykernel)",
   "language": "python",
   "name": "python3"
  },
  "language_info": {
   "codemirror_mode": {
    "name": "ipython",
    "version": 3
   },
   "file_extension": ".py",
   "mimetype": "text/x-python",
   "name": "python",
   "nbconvert_exporter": "python",
   "pygments_lexer": "ipython3",
   "version": "3.10.15"
  }
 },
 "nbformat": 4,
 "nbformat_minor": 5
}
