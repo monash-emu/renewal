{
 "cells": [
  {
   "cell_type": "code",
   "execution_count": null,
   "metadata": {},
   "outputs": [],
   "source": [
    "from jax import random\n",
    "import pandas as pd\n",
    "from datetime import datetime, timedelta\n",
    "import numpyro\n",
    "from numpyro import distributions as dist\n",
    "from numpyro import infer\n",
    "import arviz as az\n",
    "from plotly.express.colors import qualitative as qual_colours\n",
    "from pathlib import Path\n",
    "import plotly.express as px\n",
    "import plotly.graph_objects as go\n",
    "from plotly.subplots import make_subplots\n",
    "\n",
    "from estival.sampling import tools as esamp\n",
    "\n",
    "from emu_renewal.process import CosineMultiCurve\n",
    "from emu_renewal.distributions import GammaDens\n",
    "from emu_renewal.renew import RenewalHospModel\n",
    "from emu_renewal.outputs import get_spaghetti, get_quant_df_from_spaghetti, get_spagh_df_from_dict\n",
    "from emu_renewal.plotting import plot_post_prior_comparison, plot_spaghetti_calib_comparison\n",
    "from emu_renewal.calibration import StandardCalib\n",
    "from emu_renewal.targets import StandardDispTarget"
   ]
  },
  {
   "cell_type": "code",
   "execution_count": null,
   "metadata": {},
   "outputs": [],
   "source": [
    "PROJECT_PATH = Path.cwd().resolve()\n",
    "DATA_PATH = PROJECT_PATH.parent / \"data/covid_aus\""
   ]
  },
  {
   "cell_type": "code",
   "execution_count": null,
   "metadata": {},
   "outputs": [],
   "source": [
    "# Get data\n",
    "target_data = pd.read_csv(DATA_PATH / \"WHO-COVID-19-global-data_21_8_24.csv\")\n",
    "seroprev_data = pd.read_csv(DATA_PATH / \"aus_seroprev_data.csv\")\n",
    "\n",
    "# Clean cases data\n",
    "aust_data = target_data.loc[target_data[\"Country\"] == \"Australia\"]\n",
    "aust_data.index = pd.to_datetime(aust_data[\"Date_reported\"], format=\"%d/%m/%Y\")\n",
    "aust_cases = aust_data[\"New_cases\"].resample(\"W-SUN\").interpolate(method=\"linear\").fillna(0.0)\n",
    "aust_deaths = aust_data[\"New_deaths\"]\n",
    "\n",
    "# Clean seroprevalence data\n",
    "seroprev_data.index = pd.to_datetime(seroprev_data[\"date\"])\n",
    "aust_seroprev = seroprev_data[\"seroprevalence\"]\n",
    "\n",
    "# Hospitalisation data\n",
    "aust_hosp = pd.read_csv(DATA_PATH / \"hosp.csv\")\n",
    "aust_hosp.index = pd.to_datetime(aust_hosp[\"date\"])\n",
    "aust_hosp = aust_hosp[\"value\"]"
   ]
  },
  {
   "cell_type": "code",
   "execution_count": null,
   "metadata": {},
   "outputs": [],
   "source": [
    "# Specify fixed parameters and get calibration data\n",
    "proc_update_freq = 14\n",
    "init_time = 50\n",
    "pop = 26e6\n",
    "analysis_start = datetime(2021, 12, 1)\n",
    "analysis_end = datetime(2022, 10, 1)\n",
    "# Start calibration targets slightly late so as not to penalise laggy indicators\n",
    "data_start = analysis_start + timedelta(14)\n",
    "init_start = analysis_start - timedelta(init_time)\n",
    "init_end = analysis_start - timedelta(1)\n",
    "select_data = aust_cases.loc[data_start: analysis_end]\n",
    "select_deaths = aust_deaths.loc[data_start: analysis_end]\n",
    "hosp_data = aust_hosp[data_start: analysis_end: 7]\n",
    "init_data = aust_cases.resample(\"D\").asfreq().interpolate().loc[init_start: init_end] / 7.0"
   ]
  },
  {
   "cell_type": "code",
   "execution_count": null,
   "metadata": {},
   "outputs": [],
   "source": [
    "# Define parameter ranges\n",
    "priors = {\n",
    "    \"gen_mean\": dist.TruncatedNormal(7.3, 0.5, low=1.0),\n",
    "    \"gen_sd\": dist.TruncatedNormal(3.8, 0.5, low=1.0),\n",
    "    \"cdr\": dist.Beta(15, 15), #(16,40)\n",
    "    \"ifr\": dist.Beta(3, 200),\n",
    "    \"rt_init\": dist.Normal(0.0, 0.25),\n",
    "    \"report_mean\": dist.TruncatedNormal(8.0, 0.5, low=1.0),\n",
    "    \"report_sd\": dist.TruncatedNormal(3.0, 0.5, low=1.0),\n",
    "    \"death_mean\": dist.TruncatedNormal(18.0, 0.5, low=1.0),\n",
    "    \"death_sd\": dist.TruncatedNormal(5.0, 0.5, low=1.0),\n",
    "    \"admit_mean\": dist.TruncatedNormal(10.0, 1.5, low=1.0),\n",
    "    \"admit_sd\": dist.TruncatedNormal(5.0, 0.5, low=1.0),\n",
    "    \"stay_mean\": dist.TruncatedNormal(10.0, 1.5, low=1.0),\n",
    "    \"stay_sd\": dist.TruncatedNormal(5.0, 0.5, low=1.0),\n",
    "    \"har\": dist.Beta(5, 200),\n",
    "    \"shared_dispersion\": dist.HalfNormal(0.5),\n",
    "}"
   ]
  },
  {
   "cell_type": "code",
   "execution_count": null,
   "metadata": {},
   "outputs": [],
   "source": [
    "# Define model and fitter\n",
    "proc_fitter = CosineMultiCurve()\n",
    "renew_model = RenewalHospModel(pop, analysis_start, analysis_end, proc_update_freq, proc_fitter, GammaDens(), init_time, init_data, GammaDens(), discharge_dens=GammaDens())"
   ]
  },
  {
   "cell_type": "code",
   "execution_count": null,
   "metadata": {},
   "outputs": [],
   "source": [
    "# Define calibration and calib data\n",
    "calib_data = {\n",
    "    \"weekly_cases\": StandardDispTarget(select_data),\n",
    "    \"seropos\": StandardDispTarget(aust_seroprev),\n",
    "    \"weekly_deaths\": StandardDispTarget(select_deaths),\n",
    "    \"occupancy\": StandardDispTarget(hosp_data)\n",
    "}\n",
    "calib = StandardCalib(renew_model, priors, calib_data)"
   ]
  },
  {
   "cell_type": "code",
   "execution_count": null,
   "metadata": {},
   "outputs": [],
   "source": [
    "# Run calibration\n",
    "kernel = infer.NUTS(calib.calibration, dense_mass=True, init_strategy=calib.custom_init(radius=0.5))\n",
    "mcmc = infer.MCMC(kernel, num_chains=4, num_samples=1000, num_warmup=1000)\n",
    "mcmc.run(random.PRNGKey(1))"
   ]
  },
  {
   "cell_type": "code",
   "execution_count": null,
   "metadata": {},
   "outputs": [],
   "source": [
    "# Grab sample of data from calibrated model outputs\n",
    "idata = az.from_dict(mcmc.get_samples(True))\n",
    "idata_sampled = az.extract(idata, num_samples=20)\n",
    "sample_params = esamp.xarray_to_sampleiterator(idata_sampled)"
   ]
  },
  {
   "cell_type": "code",
   "execution_count": null,
   "metadata": {},
   "outputs": [],
   "source": [
    "az.summary(idata)"
   ]
  },
  {
   "cell_type": "code",
   "execution_count": null,
   "metadata": {},
   "outputs": [],
   "source": [
    "spaghetti = get_spagh_df_from_dict(get_spaghetti(calib, sample_params))"
   ]
  },
  {
   "cell_type": "code",
   "execution_count": null,
   "metadata": {},
   "outputs": [],
   "source": [
    "plot_spaghetti_calib_comparison(spaghetti, calib.targets, [\"weekly_cases\", \"weekly_deaths\", \"seropos\", \"occupancy\"])"
   ]
  },
  {
   "cell_type": "code",
   "execution_count": null,
   "metadata": {},
   "outputs": [],
   "source": [
    "plot_spaghetti_calib_comparison(spaghetti, calib.targets, [\"process\", \"r_t\"])"
   ]
  },
  {
   "cell_type": "code",
   "execution_count": null,
   "metadata": {},
   "outputs": [],
   "source": [
    "plot_spaghetti_calib_comparison(spaghetti, calib.targets, [\"incidence\", \"admissions\", \"occupancy\"])"
   ]
  },
  {
   "cell_type": "code",
   "execution_count": null,
   "metadata": {},
   "outputs": [],
   "source": [
    "az.summary(idata)"
   ]
  },
  {
   "cell_type": "code",
   "execution_count": null,
   "metadata": {},
   "outputs": [],
   "source": [
    "az.plot_trace(idata)"
   ]
  },
  {
   "cell_type": "code",
   "execution_count": null,
   "metadata": {},
   "outputs": [],
   "source": [
    "priors.keys()"
   ]
  },
  {
   "cell_type": "code",
   "execution_count": null,
   "metadata": {},
   "outputs": [],
   "source": [
    "plot_post_prior_comparison(idata, [\"cdr\", \"stay_mean\", \"stay_sd\", \"ifr\"], priors);"
   ]
  }
 ],
 "metadata": {
  "kernelspec": {
   "display_name": "Python 3 (ipykernel)",
   "language": "python",
   "name": "python3"
  },
  "language_info": {
   "codemirror_mode": {
    "name": "ipython",
    "version": 3
   },
   "file_extension": ".py",
   "mimetype": "text/x-python",
   "name": "python",
   "nbconvert_exporter": "python",
   "pygments_lexer": "ipython3",
   "version": "3.10.14"
  }
 },
 "nbformat": 4,
 "nbformat_minor": 4
}
