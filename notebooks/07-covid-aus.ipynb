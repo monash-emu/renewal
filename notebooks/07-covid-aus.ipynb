{
 "cells": [
  {
   "cell_type": "code",
   "execution_count": null,
   "metadata": {},
   "outputs": [],
   "source": [
    "from jax import jit, random\n",
    "import pandas as pd\n",
    "from datetime import datetime, timedelta\n",
    "import numpyro\n",
    "from numpyro import distributions as dist\n",
    "from numpyro import infer\n",
    "import arviz as az\n",
    "from IPython.display import Markdown\n",
    "from plotly.express.colors import qualitative as qual_colours\n",
    "from pathlib import Path\n",
    "import math\n",
    "import plotly.express as px\n",
    "import plotly.graph_objects as go\n",
    "from plotly.subplots import make_subplots\n",
    "from IPython.display import Markdown\n",
    "import matplotlib\n",
    "import matplotlib.pyplot as plt\n",
    "\n",
    "from estival.sampling import tools as esamp\n",
    "\n",
    "from emu_renewal.process import CosineMultiCurve\n",
    "from emu_renewal.distributions import GammaDens\n",
    "from emu_renewal.renew import RenewalDeathsModel\n",
    "from emu_renewal.outputs import get_spaghetti_from_params, get_quant_df_from_spaghetti, plot_spaghetti\n",
    "from emu_renewal.outputs import plot_uncertainty_patches, PANEL_SUBTITLES, plot_3d_spaghetti, plot_post_prior_comparison\n",
    "from emu_renewal.calibration import StandardCalib\n",
    "from emu_renewal.utils import get_adjust_idata_index, adjust_summary_cols"
   ]
  },
  {
   "cell_type": "code",
   "execution_count": 2,
   "metadata": {},
   "outputs": [],
   "source": [
    "PROJECT_PATH = Path.cwd().resolve()\n",
    "DATA_PATH = PROJECT_PATH.parent / \"data/covid_aus\""
   ]
  },
  {
   "cell_type": "code",
   "execution_count": 3,
   "metadata": {},
   "outputs": [],
   "source": [
    "# Get data\n",
    "target_data = pd.read_csv(DATA_PATH / \"WHO-COVID-19-global-data_21_8_24.csv\")\n",
    "seroprev_data = pd.read_csv(DATA_PATH / \"aus_seroprev_data.csv\")\n",
    "\n",
    "# Clean cases data\n",
    "aust_data = target_data.loc[target_data[\"Country\"] == \"Australia\"]\n",
    "aust_data.index = pd.to_datetime(aust_data[\"Date_reported\"], format=\"%d/%m/%Y\")\n",
    "aust_cases = aust_data[\"New_cases\"].resample(\"W-SUN\").interpolate(method=\"linear\").fillna(0.0)\n",
    "aust_deaths = aust_data[\"New_deaths\"]\n",
    "\n",
    "# Clean seroprevalence data\n",
    "seroprev_data.index = pd.to_datetime(seroprev_data[\"date\"])\n",
    "aust_seroprev = seroprev_data[\"seroprevalence\"]"
   ]
  },
  {
   "cell_type": "code",
   "execution_count": 4,
   "metadata": {},
   "outputs": [],
   "source": [
    "# Specify fixed parameters and get calibration data\n",
    "proc_update_freq = 14\n",
    "init_time = 50\n",
    "pop = 26e6\n",
    "analysis_start = datetime(2021, 12, 1)\n",
    "analysis_end = datetime(2022, 10, 1)\n",
    "init_start = analysis_start - timedelta(init_time)\n",
    "init_end = analysis_start - timedelta(1)\n",
    "select_data = aust_cases.loc[analysis_start: analysis_end]\n",
    "select_deaths = aust_deaths.loc[analysis_start: analysis_end]\n",
    "init_data = aust_cases.resample(\"D\").asfreq().interpolate().loc[init_start: init_end] / 7.0"
   ]
  },
  {
   "cell_type": "code",
   "execution_count": 6,
   "metadata": {},
   "outputs": [],
   "source": [
    "# Define model and fitter\n",
    "proc_fitter = CosineMultiCurve()\n",
    "renew_model = RenewalDeathsModel(pop, analysis_start, analysis_end, proc_update_freq, proc_fitter, GammaDens(), init_time, init_data, GammaDens())"
   ]
  },
  {
   "cell_type": "code",
   "execution_count": 79,
   "metadata": {},
   "outputs": [],
   "source": [
    "# Define parameter ranges\n",
    "priors = {\n",
    "    \"gen_mean\": dist.TruncatedNormal(7.3, 0.5, low=1.0),\n",
    "    \"gen_sd\": dist.TruncatedNormal(3.8, 0.5, low=1.0),\n",
    "    \"cdr\": dist.Beta(15, 15), #(16,40)\n",
    "    \"ifr\": dist.Beta(2, 200),\n",
    "    \"rt_init\": dist.Normal(0.0, 0.25),\n",
    "    \"report_mean\": dist.TruncatedNormal(8, 0.5, low=1.0),\n",
    "    \"report_sd\": dist.TruncatedNormal(3, 0.5, low=1.0),\n",
    "    \"death_mean\": dist.TruncatedNormal(21.0, 0.5, low=1.0),\n",
    "    \"death_sd\": dist.TruncatedNormal(5.0, 0.5, low=1.0),\n",
    "}"
   ]
  },
  {
   "cell_type": "code",
   "execution_count": 80,
   "metadata": {},
   "outputs": [],
   "source": [
    "# Define model and fitter\n",
    "proc_fitter = CosineMultiCurve()\n",
    "renew_model = RenewalDeathsModel(pop, analysis_start, analysis_end, proc_update_freq, proc_fitter, GammaDens(), init_time, init_data, GammaDens())"
   ]
  },
  {
   "cell_type": "code",
   "execution_count": 81,
   "metadata": {},
   "outputs": [],
   "source": [
    "# Define calibration and calib data\n",
    "calib_data = {\n",
    "    \"weekly_sum\": select_data,\n",
    "    \"seropos\": aust_seroprev,\n",
    "    \"weekly_deaths\": select_deaths,\n",
    "}\n",
    "calib = StandardCalib(renew_model, priors, calib_data)"
   ]
  },
  {
   "cell_type": "code",
   "execution_count": null,
   "metadata": {},
   "outputs": [],
   "source": [
    "# Run calibration\n",
    "kernel = infer.NUTS(calib.calibration, dense_mass=True, init_strategy=infer.init_to_uniform(radius=0.5))\n",
    "mcmc = infer.MCMC(kernel, num_chains=4, num_samples=100, num_warmup=100)\n",
    "mcmc.run(random.PRNGKey(2))"
   ]
  },
  {
   "cell_type": "code",
   "execution_count": 120,
   "metadata": {},
   "outputs": [],
   "source": [
    "# Grab sample of data from calibrated model outputs\n",
    "idata = az.from_dict(mcmc.get_samples(True))\n",
    "idata_sampled = az.extract(idata, num_samples=800)\n",
    "sample_params = esamp.xarray_to_sampleiterator(idata_sampled)"
   ]
  },
  {
   "cell_type": "code",
   "execution_count": 121,
   "metadata": {},
   "outputs": [],
   "source": [
    "# get model results and outputs\n",
    "def get_full_result(**params):\n",
    "    return renew_model.renewal_func(**params)\n",
    "\n",
    "full_wrap = jit(get_full_result)"
   ]
  },
  {
   "cell_type": "code",
   "execution_count": 122,
   "metadata": {},
   "outputs": [],
   "source": [
    "OUTPUTS = ['weekly_deaths','weekly_sum', 'seropos', 'susceptible', 'R', 'transmission potential'] \n",
    "spaghetti = get_spaghetti_from_params(renew_model, sample_params, full_wrap, outputs=OUTPUTS)\n",
    "quantiles_df = get_quant_df_from_spaghetti(renew_model, spaghetti, quantiles=[0.05, 0.5, 0.95], outputs=OUTPUTS)"
   ]
  },
  {
   "cell_type": "code",
   "execution_count": null,
   "metadata": {},
   "outputs": [],
   "source": [
    "plot_main(quantiles_df, select_data, select_deaths, aust_seroprev)"
   ]
  },
  {
   "cell_type": "code",
   "execution_count": null,
   "metadata": {},
   "outputs": [],
   "source": [
    "az.summary(idata)"
   ]
  },
  {
   "cell_type": "code",
   "execution_count": null,
   "metadata": {},
   "outputs": [],
   "source": [
    "plot_post_prior_comparison(idata, list(priors.keys()), priors);"
   ]
  },
  {
   "cell_type": "code",
   "execution_count": null,
   "metadata": {},
   "outputs": [],
   "source": [
    "az.plot_trace(idata)\n",
    "fig = plt.gcf()\n",
    "fig.savefig(\"trace_2.png\")"
   ]
  },
  {
   "cell_type": "code",
   "execution_count": 16,
   "metadata": {},
   "outputs": [],
   "source": [
    "def plot_main(model_data, case_data, death_data, seroprevalence_data):\n",
    "    case_index = case_data.index\n",
    "    cases = case_data\n",
    "    death_index = death_data.index\n",
    "    deaths = death_data\n",
    "    seroprev_index = seroprevalence_data.index\n",
    "    seroprev = seroprevalence_data\n",
    "     \n",
    "    # Define elements needed to add median line plots\n",
    "    model_index = model_data.index\n",
    "    weekly_median = model_data[\"weekly_sum\"][0.50]\n",
    "    death_median = model_data[\"weekly_deaths\"][0.50]\n",
    "    seropos_median = model_data[\"seropos\"][0.50]\n",
    "    suscept_median = model_data[\"susceptible\"][0.50]\n",
    "    rt_median = model_data[\"R\"][0.50]\n",
    "    transmission_median = model_data[\"transmission potential\"][0.50]\n",
    "    \n",
    "    \n",
    "    # Define elements needed for uncertainty plots\n",
    "    x_vals = model_data.index.to_list() + model_data.index[::-1].to_list()\n",
    "    y_vals_weekly = model_data[\"weekly_sum\"][0.05].to_list() + model_data[\"weekly_sum\"][0.95][::-1].to_list()\n",
    "    y_vals_deaths = model_data[\"weekly_deaths\"][0.05].to_list() + model_data[\"weekly_deaths\"][0.95][::-1].to_list()\n",
    "    y_vals_seropos = model_data[\"seropos\"][0.05].to_list() + model_data[\"seropos\"][0.95][::-1].to_list()\n",
    "    y_vals_suscept = model_data[\"susceptible\"][0.05].to_list() + model_data[\"susceptible\"][0.95][::-1].to_list()\n",
    "    y_vals_R = model_data[\"R\"][0.05].to_list() + model_data[\"R\"][0.95][::-1].to_list()\n",
    "    y_vals_transmission = model_data[\"transmission potential\"][0.05].to_list() + model_data[\"transmission potential\"][0.95][::-1].to_list()\n",
    "    \n",
    "                                 \n",
    "    # Create subplot\n",
    "    fig = make_subplots(3,2, shared_xaxes=True,  subplot_titles=('Weekly cases', 'Weekly deaths', 'Seroprevalence', 'Susceptible population',\n",
    "                                                                 'Rt','Transmission potential'),\n",
    "                       horizontal_spacing = 0.05, vertical_spacing = 0.05)\n",
    "    \n",
    "    # Add modelled case notifications median line\n",
    "    fig.add_trace(go.Scatter(x=model_index, y=weekly_median, mode=\"lines\", name=\"Modelled cases\", marker_color='#636EFA' ), row=1, col=1)\n",
    "    # Add modelled case notifications uncertainty\n",
    "    fig.add_trace(go.Scatter(x=x_vals, y=y_vals_weekly, mode=\"lines\", name=\"Modelled cases\", line={\"width\": 0.0, \"color\": '#636EFA'}, fill='toself',\n",
    "                             showlegend=False ), row=1, col=1)\n",
    "    # Add case notifications\n",
    "    fig.add_trace(go.Scatter(x=case_index, y=cases,  mode=\"markers\", name=\"Reported cases\", marker_color=\"black\" ), row=1, col=1)\n",
    "\n",
    "    # Add modelled death\n",
    "    fig.add_trace(go.Scatter(x=model_index, y=death_median, mode=\"lines\", name=\"Deaths\", marker_color='#636EFA' ), row=1, col=2)\n",
    "    # Add modelled case notifications uncertainty\n",
    "    fig.add_trace(go.Scatter(x=x_vals, y=y_vals_deaths, mode=\"lines\", name=\"Deaths\", line={\"width\": 0.0, \"color\": '#636EFA'}, fill='toself',\n",
    "                             showlegend=False ), row=1, col=2)\n",
    "    # Add death\n",
    "    fig.add_trace(go.Scatter(x=death_index, y=deaths,  mode=\"markers\", name=\"Reported deaths\", marker_color=\"black\" ), row=1, col=2)\n",
    "\n",
    "    # Add modelled seroprev\n",
    "    fig.add_trace(go.Scatter(x=model_index, y=seropos_median, mode=\"lines\", name=\"Seroprevalence\", marker_color='#636EFA' ), row=2, col=1)\n",
    "    # Add modelled case notifications uncertainty\n",
    "    fig.add_trace(go.Scatter(x=x_vals, y=y_vals_seropos, mode=\"lines\", name=\"Seroprevalence\", line={\"width\": 0.0, \"color\": '#636EFA'}, fill='toself',\n",
    "                             showlegend=False ), row=2, col=1)\n",
    "    # Add seroprev\n",
    "    fig.add_trace(go.Scatter(x=seroprev_index, y=seroprev,  mode=\"markers\", name=\"Seroprevalence\", marker_color=\"black\" ), row=2, col=1)\n",
    "\n",
    "    # Add susceptible median line\n",
    "    fig.add_trace(go.Scatter(x=model_index, y=suscept_median, mode=\"lines\", name=\"Susceptible\", marker_color='#EF553B' ), row=2, col=2)\n",
    "    # Add susceptible uncertainty \n",
    "    fig.add_trace(go.Scatter(x=x_vals, y=y_vals_suscept, mode=\"lines\", name=\"Susceptible\", line={\"width\": 0.0, \"color\": '#EF553B'}, fill='toself',\n",
    "                             showlegend=False ), row=2, col=2)\n",
    "    \n",
    "    # Add Rt median line\n",
    "    fig.add_trace(go.Scatter(x=model_index, y=rt_median, mode=\"lines\", name=\"Rt\", marker_color='#00CC96' ), row=3, col=1)\n",
    "    # Add Rt uncertainty \n",
    "    fig.add_trace(go.Scatter(x=x_vals, y=y_vals_R, mode=\"lines\", name=\"Rt\", line={\"width\": 0.0, \"color\": '#00CC96'}, fill='toself', showlegend=False ), row=3,\n",
    "                  col=1)\n",
    "\n",
    "    # Add transmission potential median line\n",
    "    fig.add_trace(go.Scatter(x=model_index, y=transmission_median , mode=\"lines\", name=\"Transmission potential\", marker_color='#AB63FA' ), row=3, col=2)\n",
    "    # Add transmission potential uncerainty \n",
    "    fig.add_trace(go.Scatter(x=x_vals, y=y_vals_transmission, mode=\"lines\", name=\"Transmission potential\", line={\"width\": 0.0, \"color\": '#AB63FA'},\n",
    "                             fill='toself', showlegend=False ), row=3, col=2)\n",
    "    \n",
    "                                 \n",
    "    return fig.update_layout(height=1000, width=1200)"
   ]
  }
 ],
 "metadata": {
  "kernelspec": {
   "display_name": "renewal",
   "language": "python",
   "name": "python3"
  },
  "language_info": {
   "codemirror_mode": {
    "name": "ipython",
    "version": 3
   },
   "file_extension": ".py",
   "mimetype": "text/x-python",
   "name": "python",
   "nbconvert_exporter": "python",
   "pygments_lexer": "ipython3",
   "version": "3.10.14"
  }
 },
 "nbformat": 4,
 "nbformat_minor": 4
}
