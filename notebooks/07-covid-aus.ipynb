{
 "cells": [
  {
   "cell_type": "code",
   "execution_count": 29,
   "metadata": {},
   "outputs": [],
   "source": [
    "from jax import jit, random\n",
    "import pandas as pd\n",
    "from datetime import datetime, timedelta\n",
    "import numpyro\n",
    "from numpyro import distributions as dist\n",
    "from numpyro import infer\n",
    "import arviz as az\n",
    "from IPython.display import Markdown\n",
    "from plotly.express.colors import qualitative as qual_colours\n",
    "from pathlib import Path\n",
    "import math\n",
    "import plotly.express as px\n",
    "import plotly.graph_objects as go\n",
    "from plotly.subplots import make_subplots\n",
    "from IPython.display import Markdown\n",
    "\n",
    "from estival.sampling import tools as esamp\n",
    "\n",
    "from emu_renewal.process import CosineMultiCurve\n",
    "from emu_renewal.distributions import GammaDens\n",
    "from emu_renewal.renew import RenewalDeathsModel, ModelDeathsResult\n",
    "from emu_renewal.outputs import get_spaghetti, get_quant_df_from_spaghetti\n",
    "from emu_renewal.plotting import plot_uncertainty_patches, plot_3d_spaghetti, plot_post_prior_comparison, plot_spaghetti_calib_comparison\n",
    "from emu_renewal.calibration import StandardCalib\n",
    "from emu_renewal.utils import get_adjust_idata_index, adjust_summary_cols\n",
    "from emu_renewal.targets import StandardTarget"
   ]
  },
  {
   "cell_type": "code",
   "execution_count": 30,
   "metadata": {},
   "outputs": [],
   "source": [
    "PROJECT_PATH = Path.cwd().resolve()\n",
    "DATA_PATH = PROJECT_PATH.parent / \"data/covid_aus\""
   ]
  },
  {
   "cell_type": "code",
   "execution_count": 31,
   "metadata": {},
   "outputs": [],
   "source": [
    "# Get data\n",
    "target_data = pd.read_csv(DATA_PATH / \"WHO-COVID-19-global-data_21_8_24.csv\")\n",
    "seroprev_data = pd.read_csv(DATA_PATH / \"aus_seroprev_data.csv\")\n",
    "\n",
    "# Clean cases data\n",
    "aust_data = target_data.loc[target_data[\"Country\"] == \"Australia\"]\n",
    "aust_data.index = pd.to_datetime(aust_data[\"Date_reported\"], format=\"%d/%m/%Y\")\n",
    "aust_cases = aust_data[\"New_cases\"].resample(\"W-SUN\").interpolate(method=\"linear\").fillna(0.0)\n",
    "aust_deaths = aust_data[\"New_deaths\"]\n",
    "\n",
    "# Clean seroprevalence data\n",
    "seroprev_data.index = pd.to_datetime(seroprev_data[\"date\"])\n",
    "aust_seroprev = seroprev_data[\"seroprevalence\"]\n",
    "\n",
    "# Hospitalisation data\n",
    "aust_hosp = pd.read_pickle(DATA_PATH / \"hosp.pkl\")"
   ]
  },
  {
   "cell_type": "code",
   "execution_count": null,
   "metadata": {},
   "outputs": [],
   "source": [
    "# Specify fixed parameters and get calibration data\n",
    "proc_update_freq = 14\n",
    "init_time = 50\n",
    "pop = 26e6\n",
    "analysis_start = datetime(2021, 12, 1)\n",
    "analysis_end = datetime(2022, 10, 1)\n",
    "init_start = analysis_start - timedelta(init_time)\n",
    "init_end = analysis_start - timedelta(1)\n",
    "select_data = aust_cases.loc[analysis_start: analysis_end]\n",
    "select_deaths = aust_deaths.loc[analysis_start: analysis_end]\n",
    "hosp_data = aust_hosp[analysis_start: analysis_end]\n",
    "init_data = aust_cases.resample(\"D\").asfreq().interpolate().loc[init_start: init_end] / 7.0"
   ]
  },
  {
   "cell_type": "code",
   "execution_count": null,
   "metadata": {},
   "outputs": [],
   "source": [
    "# Define model and fitter\n",
    "proc_fitter = CosineMultiCurve()\n",
    "renew_model = RenewalDeathsModel(pop, analysis_start, analysis_end, proc_update_freq, proc_fitter, GammaDens(), init_time, init_data, GammaDens())"
   ]
  },
  {
   "cell_type": "code",
   "execution_count": null,
   "metadata": {},
   "outputs": [],
   "source": [
    "# Define parameter ranges\n",
    "priors = {\n",
    "    \"gen_mean\": dist.TruncatedNormal(7.3, 0.5, low=1.0),\n",
    "    \"gen_sd\": dist.TruncatedNormal(3.8, 0.5, low=1.0),\n",
    "    \"cdr\": dist.Beta(15, 15), #(16,40)\n",
    "    \"ifr\": dist.Beta(3, 20),\n",
    "    \"rt_init\": dist.Normal(0.0, 0.25),\n",
    "    \"report_mean\": dist.TruncatedNormal(8, 0.5, low=1.0),\n",
    "    \"report_sd\": dist.TruncatedNormal(3, 0.5, low=1.0),\n",
    "    \"death_mean\": dist.TruncatedNormal(18.0, 0.5, low=1.0),\n",
    "    \"death_sd\": dist.TruncatedNormal(5.0, 0.5, low=1.0),\n",
    "}"
   ]
  },
  {
   "cell_type": "code",
   "execution_count": null,
   "metadata": {},
   "outputs": [],
   "source": [
    "# Define model and fitter\n",
    "proc_fitter = CosineMultiCurve()\n",
    "renew_model = RenewalDeathsModel(pop, analysis_start, analysis_end, proc_update_freq, proc_fitter, GammaDens(), init_time, init_data, GammaDens())"
   ]
  },
  {
   "cell_type": "code",
   "execution_count": null,
   "metadata": {},
   "outputs": [],
   "source": [
    "# Define calibration and calib data\n",
    "calib_data = {\n",
    "    \"weekly_sum\": StandardTarget(select_data, 0.1),\n",
    "    \"seropos\": StandardTarget(aust_seroprev, 0.1),\n",
    "    \"weekly_deaths\": StandardTarget(select_deaths, 0.1),\n",
    "}\n",
    "calib = StandardCalib(renew_model, priors, calib_data)"
   ]
  },
  {
   "cell_type": "code",
   "execution_count": null,
   "metadata": {},
   "outputs": [],
   "source": [
    "# Run calibration\n",
    "kernel = infer.NUTS(calib.calibration, dense_mass=True, init_strategy=calib.custom_init(radius=0.5))\n",
    "mcmc = infer.MCMC(kernel, num_chains=2, num_samples=100, num_warmup=100)\n",
    "mcmc.run(random.PRNGKey(1))"
   ]
  },
  {
   "cell_type": "code",
   "execution_count": null,
   "metadata": {},
   "outputs": [],
   "source": [
    "# Grab sample of data from calibrated model outputs\n",
    "idata = az.from_dict(mcmc.get_samples(True))\n",
    "idata_sampled = az.extract(idata, num_samples=20)\n",
    "sample_params = esamp.xarray_to_sampleiterator(idata_sampled)"
   ]
  },
  {
   "cell_type": "code",
   "execution_count": null,
   "metadata": {},
   "outputs": [],
   "source": [
    "spaghetti = get_spaghetti(calib, sample_params)"
   ]
  },
  {
   "cell_type": "code",
   "execution_count": null,
   "metadata": {},
   "outputs": [],
   "source": [
    "plot_spaghetti_calib_comparison(spaghetti, calib.targets, [\"weekly_sum\", \"weekly_deaths\", \"seropos\"])"
   ]
  },
  {
   "cell_type": "code",
   "execution_count": null,
   "metadata": {},
   "outputs": [],
   "source": [
    "az.summary(idata)"
   ]
  },
  {
   "cell_type": "code",
   "execution_count": null,
   "metadata": {},
   "outputs": [],
   "source": [
    "plot_post_prior_comparison(idata, list(priors.keys()), priors);"
   ]
  }
 ],
 "metadata": {
  "kernelspec": {
   "display_name": "Python 3 (ipykernel)",
   "language": "python",
   "name": "python3"
  },
  "language_info": {
   "codemirror_mode": {
    "name": "ipython",
    "version": 3
   },
   "file_extension": ".py",
   "mimetype": "text/x-python",
   "name": "python",
   "nbconvert_exporter": "python",
   "pygments_lexer": "ipython3",
   "version": "3.10.15"
  }
 },
 "nbformat": 4,
 "nbformat_minor": 4
}
