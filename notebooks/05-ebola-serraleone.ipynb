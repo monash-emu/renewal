{
 "cells": [
  {
   "cell_type": "code",
   "execution_count": null,
   "id": "0",
   "metadata": {},
   "outputs": [],
   "source": [
    "# Uncomment the line below to install on Colab or similar\n",
    "#! pip install git+https://github.com/monash-emu/wpro-working.git@more-datasets"
   ]
  },
  {
   "cell_type": "code",
   "execution_count": null,
   "id": "1",
   "metadata": {},
   "outputs": [],
   "source": [
    "import pandas as pd\n",
    "import plotly.express as px\n",
    "import numpy as np\n",
    "import pandas as pd\n",
    "from datetime import datetime\n",
    "import numpyro\n",
    "from numpyro import distributions as dist\n",
    "from numpyro import infer\n",
    "from jax import jit, random\n",
    "import arviz as az\n",
    "from estival.sampling import tools as esamp\n",
    "from plotly.express.colors import qualitative as qual_colours\n",
    "from IPython.display import Markdown\n",
    "\n",
    "from emu_renewal.outputs import get_spaghetti, get_quant_df_from_spaghetti, plot_uncertainty_patches\n",
    "from emu_renewal.process import CosineMultiCurve\n",
    "from emu_renewal.distributions import GammaDens\n",
    "from emu_renewal.renew import RenewalModel, ModelResult\n",
    "from emu_renewal.calibration import StandardCalib\n",
    "from emu_renewal.targets import StandardTarget"
   ]
  },
  {
   "cell_type": "code",
   "execution_count": null,
   "id": "2",
   "metadata": {},
   "outputs": [],
   "source": [
    "# Grab data on 2014-2016 Ebola outbreak - this analysis we will focus on the epidemic in Seirra Leone. This data was don\n",
    "ebola_data = pd.read_csv(\"https://github.com/monash-emu/wpro-working/raw/more-datasets/data/ebola_2014_2016/ebola_2014_2016_clean.csv\", index_col=\"Date\", parse_dates=True)\n",
    "case_data = ebola_data[ebola_data[\"Country\"] == \"Sierra Leone\"][\"Cumulative no. of confirmed, probable and suspected cases\"].diff().rolling(14).mean().dropna()"
   ]
  },
  {
   "cell_type": "code",
   "execution_count": null,
   "id": "3",
   "metadata": {},
   "outputs": [],
   "source": [
    "# Specify fixed parameters and get calibration data\n",
    "proc_update_freq = 4\n",
    "window_len = 14\n",
    "pop = 7.1e6\n",
    "analysis_start = ebola_data.index[0]\n",
    "analysis_end = datetime(2015, 5, 1)\n",
    "select_data = case_data.loc[analysis_start: analysis_end]"
   ]
  },
  {
   "cell_type": "code",
   "execution_count": null,
   "id": "4",
   "metadata": {},
   "outputs": [],
   "source": [
    "# Create exponentially increasing case counts for init_duration period before analysis starts\n",
    "# Pad with zeroes to allow looking back over the full window\n",
    "init_duration = 14\n",
    "exp_coeff = np.log(case_data.iloc[0]) / init_duration\n",
    "init_series = np.concatenate([np.zeros(window_len - init_duration), np.exp(exp_coeff * np.arange(init_duration))])"
   ]
  },
  {
   "cell_type": "code",
   "execution_count": null,
   "id": "5",
   "metadata": {},
   "outputs": [],
   "source": [
    "fitter = CosineMultiCurve()\n",
    "renew_model = RenewalModel(33e6, analysis_start, analysis_end, proc_update_freq, fitter, GammaDens(), 14, init_series, GammaDens())"
   ]
  },
  {
   "cell_type": "code",
   "execution_count": null,
   "id": "6",
   "metadata": {},
   "outputs": [],
   "source": [
    "# Define parameter ranges\n",
    "priors = {\n",
    "    \"gen_mean\": dist.Uniform(10.0, 14.0),\n",
    "    \"gen_sd\": dist.Uniform(3.0, 7.0),\n",
    "    \"cdr\": dist.Beta(10.0, 4.0),\n",
    "    \"rt_init\": dist.Normal(0.0, 0.25),\n",
    "    \"report_mean\": dist.Uniform(8.0, 12.0),\n",
    "    \"report_sd\": dist.Uniform(3.0, 6.0),\n",
    "}"
   ]
  },
  {
   "cell_type": "code",
   "execution_count": null,
   "id": "7",
   "metadata": {},
   "outputs": [],
   "source": [
    "calib_data = {\n",
    "    \"cases\": StandardTarget(select_data, 0.1)\n",
    "}\n",
    "calib = StandardCalib(renew_model, priors, calib_data)"
   ]
  },
  {
   "cell_type": "code",
   "execution_count": null,
   "id": "8",
   "metadata": {},
   "outputs": [],
   "source": [
    "kernel = infer.NUTS(calib.calibration, dense_mass=True, init_strategy=calib.custom_init(radius=0.5))\n",
    "mcmc = infer.MCMC(kernel, num_chains=2, num_samples=1000, num_warmup=1000)\n",
    "mcmc.run(random.PRNGKey(1))"
   ]
  },
  {
   "cell_type": "code",
   "execution_count": null,
   "id": "9",
   "metadata": {},
   "outputs": [],
   "source": [
    "idata = az.from_numpyro(mcmc)\n",
    "idata_sampled = az.extract(idata, num_samples=100)\n",
    "sample_params = esamp.xarray_to_sampleiterator(idata_sampled)"
   ]
  },
  {
   "cell_type": "code",
   "execution_count": null,
   "id": "10",
   "metadata": {},
   "outputs": [],
   "source": [
    "spaghetti = new_new_get_spaghetti(calib, sample_params)\n",
    "key_outputs = [\"weekly_sum\", \"suscept\", \"r_t\", \"process\"]\n",
    "quantiles = get_quant_df_from_spaghetti(spaghetti, quantiles=[0.05, 0.5, 0.95])"
   ]
  },
  {
   "cell_type": "code",
   "execution_count": null,
   "id": "11",
   "metadata": {},
   "outputs": [],
   "source": [
    "plot_uncertainty_patches(quantiles, select_data, qual_colours.Plotly, outputs=key_outputs)"
   ]
  }
 ],
 "metadata": {
  "kernelspec": {
   "display_name": "Python 3 (ipykernel)",
   "language": "python",
   "name": "python3"
  },
  "language_info": {
   "codemirror_mode": {
    "name": "ipython",
    "version": 3
   },
   "file_extension": ".py",
   "mimetype": "text/x-python",
   "name": "python",
   "nbconvert_exporter": "python",
   "pygments_lexer": "ipython3",
   "version": "3.10.15"
  }
 },
 "nbformat": 4,
 "nbformat_minor": 5
}
