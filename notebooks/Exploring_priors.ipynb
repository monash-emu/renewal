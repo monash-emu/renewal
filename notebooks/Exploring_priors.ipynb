{
 "cells": [
  {
   "cell_type": "markdown",
   "metadata": {},
   "source": [
    "# Prior distributions of epidemiological parameters in renewal models"
   ]
  },
  {
   "cell_type": "markdown",
   "metadata": {},
   "source": [
    "This notebook explores what kind of prior distributions we should set for key parameters calibrated in renewal models\n",
    "\n",
    "Mostly the focus is on setting prior distributions for the parameters that govern the distirbution of the generation interval and delay distributions, such as reporting delays that link incidence to the reporting of notifications.\n",
    "\n",
    "Many\n",
    "\n",
    "This paper using epinow2 uses normal priors on mean and SD: https://journals.plos.org/ploscompbiol/article?id=10.1371/journal.pcbi.1010405#pcbi.1010405.s001 \n",
    "although no idea where exactly they get these numbers from  in the paper they say they use as supporting evidence"
   ]
  },
  {
   "cell_type": "markdown",
   "metadata": {},
   "source": [
    "## Generation intervals and how they are implemented in other renewal models"
   ]
  },
  {
   "cell_type": "markdown",
   "metadata": {},
   "source": [
    "### What is the generation interval?"
   ]
  },
  {
   "cell_type": "markdown",
   "metadata": {},
   "source": [
    "The generation interval (GT) - *was going to add some text outlining what is and what we assume it represents in these models or might just remove."
   ]
  },
  {
   "cell_type": "markdown",
   "metadata": {},
   "source": [
    "The generation interval is typically modelled as a gamma distribution. Studies that aim to estimate the generation interval typically do so  \n",
    "\n",
    "Ass such, within renewal models generation times are typically implemented as a gamma distributions. Many approaches fix the gamma distribution parameters based on evidence from the literature - usually by just setting the mean and standard deviation based on the estimates that come from fitting distributions to data as described above.\n",
    "For example; Flaxman et al. (https://www.nature.com/articles/s41586-020-2405-7) and Faria et al. (https://www.science.org/doi/10.1126/science.abh2644#supplementary-materials)\n",
    "\n",
    "Epinow2 allows for the mean and SD parameters of the gamma distributed GT to be claibrated during model fitting and based on their code they seem to always specifiy normal priors around these quantities. Published example paper using Epinow2 Bosse et al. (https://journals.plos.org/ploscompbiol/article?id=10.1371/journal.pcbi.1010405) and "
   ]
  },
  {
   "cell_type": "markdown",
   "metadata": {},
   "source": [
    "### Estimates the generation interval for COVID-19"
   ]
  },
  {
   "cell_type": "markdown",
   "metadata": {},
   "source": [
    "\n",
    "Best estimates of the generation time are likely those taken early in an epidemic - before there is significant depletion of susceptibles and before the implementation of public health and social measures (PHSM) -> both of which will lead to contraction of the generation interval.\n",
    "\n",
    "Chen et al. (https://www.nature.com/articles/s41467-022-35496-8#Sec9) in 2022 re-examined transmission pair data from early in the COVID-19 outbreak in China (Jan-Feb 2020) to estimate the generation time distribution. Under the assumption that the generation time follows a gamma distribution, Chen et al. generated estimates of the GT over several time windows during that period. Prior to the implementation of PHSMs, they estimated a mean generation time 7.27 days (95% CI 6.42 to 8.07) with a standard deviation of 3.81 days (95% CI 2.84 to 4.80). \n",
    "\n",
    "One approach to incorporating this evidence would be to just fix the parameters of gamma distributed GT at these estimated values."
   ]
  },
  {
   "cell_type": "markdown",
   "metadata": {},
   "source": [
    "However, to include more uncertainty we could set the mean and sd parameters of our gamma distributed GT as prior distributions and include them in calibration, and thus better explore uncertainty around these values and their influence on model dynamics.\n",
    "\n",
    "Setting prior distributions for these parameters based on the prior information we have is the next question.\n",
    "\n",
    "Although they are the mean and sd of a gamma distributed GT - these parameters themsevles are not necessarily gamma distributed. In Chen et al., the mean is estimated based on maximum likelihood and the 95% CI are constructed using boostrapped sampling. I believe, The central limit theorem still applies here - and thus the assumption is that these parameters of the GT distribution (being the mean and sd) are approximately normally distributed. "
   ]
  },
  {
   "cell_type": "code",
   "execution_count": null,
   "metadata": {},
   "outputs": [],
   "source": [
    "# Define convienence function for computing the sd of the mean and the sd, based on the 95%CI\n",
    "# If we assume the mean and sd are normally distributed - then we know that the 95% CI are ~+/- 2 SD of the mean and therefore we can roughly calculate what the SD should be for these values\n",
    "def compute_parameter_sd(mean, mean_ui, sd, sd_ui):\n",
    "    mean_sd = (mean_ui - mean)/2\n",
    "    sd_sd = (sd_ui - sd)/2\n",
    "    return mean_sd, sd_sd\n"
   ]
  },
  {
   "cell_type": "code",
   "execution_count": null,
   "metadata": {},
   "outputs": [],
   "source": [
    "# Compute what the SD should be to specify a normal distribution prior for the mean and SD based on the evidence\n",
    "compute_parameter_sd(7.27, 8.07, 3.81, 4.80)"
   ]
  },
  {
   "cell_type": "markdown",
   "metadata": {},
   "source": [
    "The results of this is that the we should be able to specify a normal prior for both the mean and SD of the GT gamma distribution:\n",
    "mean ~ N(7.3, 0.4)\n",
    "SD ~ N (3.8, 0.5)"
   ]
  },
  {
   "cell_type": "markdown",
   "metadata": {},
   "source": [
    "## Exploration of priors for generation time"
   ]
  },
  {
   "cell_type": "markdown",
   "metadata": {},
   "source": [
    "The code that follows is adapted (essentially copied) from the covid Malaysia notebook to implement these more informative priors."
   ]
  },
  {
   "cell_type": "code",
   "execution_count": null,
   "metadata": {},
   "outputs": [],
   "source": [
    "from jax import jit, random\n",
    "import pandas as pd\n",
    "from datetime import datetime, timedelta\n",
    "import numpyro\n",
    "from numpyro import distributions as dist\n",
    "from numpyro import infer\n",
    "import arviz as az\n",
    "from plotly.express.colors import qualitative as qual_colours\n",
    "import numpy as np\n",
    "import seaborn as sns\n",
    "\n",
    "from estival.sampling import tools as esamp\n",
    "\n",
    "from emu_renewal.process import CosineMultiCurve\n",
    "from emu_renewal.distributions import GammaDens\n",
    "from emu_renewal.renew import RenewalModel\n",
    "from emu_renewal.outputs import get_spaghetti_from_params, get_quant_df_from_spaghetti\n",
    "from emu_renewal.outputs import plot_uncertainty_patches, plot_post_prior_comparison\n",
    "from emu_renewal.calibration import StandardCalib"
   ]
  },
  {
   "cell_type": "code",
   "execution_count": null,
   "metadata": {},
   "outputs": [],
   "source": [
    "# Specify fixed parameters and get calibration data\n",
    "proc_update_freq = 14\n",
    "init_time = 50\n",
    "mys_data = pd.read_csv(\"https://github.com/monash-emu/wpro_working/raw/main/data/new_cases.csv\", index_col=0)[\"MYS\"]\n",
    "mys_data.index = pd.to_datetime(mys_data.index)\n",
    "pop = 33e6\n",
    "analysis_start = datetime(2021, 3, 1)\n",
    "analysis_end = datetime(2021, 11, 1)\n",
    "init_start = analysis_start - timedelta(init_time)\n",
    "init_end = analysis_start - timedelta(1)\n",
    "select_data = mys_data.loc[analysis_start: analysis_end]\n",
    "init_data = mys_data.loc[init_start: init_end]"
   ]
  },
  {
   "cell_type": "code",
   "execution_count": null,
   "metadata": {},
   "outputs": [],
   "source": [
    "renew_model = RenewalModel(33e6, analysis_start, analysis_end, proc_update_freq, CosineMultiCurve(), GammaDens(), 50, init_data, GammaDens())"
   ]
  },
  {
   "cell_type": "code",
   "execution_count": null,
   "metadata": {},
   "outputs": [],
   "source": [
    "# Define parameter ranges\n",
    "priors = {\n",
    "    \"gen_mean\": dist.Normal(7.3, 0.4),\n",
    "    \"gen_sd\": dist.Normal(3.8, 0.5),\n",
    "    \"cdr\": dist.Beta(4.0, 10.0),\n",
    "    \"rt_init\": dist.Normal(0.0, 0.25),\n",
    "    \"report_mean\": dist.Uniform(8.0, 12.0),\n",
    "    \"report_sd\": dist.Uniform(3.0, 6.0),\n",
    "}"
   ]
  },
  {
   "cell_type": "code",
   "execution_count": null,
   "metadata": {},
   "outputs": [],
   "source": [
    "calib = StandardCalib(renew_model, priors, select_data)\n",
    "kernel = infer.NUTS(calib.calibration, dense_mass=True, init_strategy=infer.init_to_uniform(radius=0.5))\n",
    "mcmc = infer.MCMC(kernel, num_chains=2, num_samples=1000, num_warmup=1000)\n",
    "mcmc.run(random.PRNGKey(1))"
   ]
  },
  {
   "cell_type": "code",
   "execution_count": null,
   "metadata": {},
   "outputs": [],
   "source": [
    "idata = az.from_dict(mcmc.get_samples(True))\n",
    "idata_sampled = az.extract(idata, num_samples=200)\n",
    "sample_params = esamp.xarray_to_sampleiterator(idata_sampled)"
   ]
  },
  {
   "cell_type": "code",
   "execution_count": null,
   "metadata": {},
   "outputs": [],
   "source": [
    "def get_full_result(gen_mean, gen_sd, proc, cdr, rt_init, report_mean, report_sd):\n",
    "    return renew_model.renewal_func(gen_mean, gen_sd, proc, cdr, rt_init, report_mean, report_sd)\n",
    "\n",
    "full_wrap = jit(get_full_result)\n",
    "spaghetti = get_spaghetti_from_params(renew_model, sample_params, full_wrap)\n",
    "quantiles_df = get_quant_df_from_spaghetti(renew_model, spaghetti, quantiles=[0.05, 0.5, 0.95])\n",
    "plot_uncertainty_patches(quantiles_df, select_data, qual_colours.Plotly).update_layout(showlegend=False)"
   ]
  },
  {
   "cell_type": "code",
   "execution_count": null,
   "metadata": {},
   "outputs": [],
   "source": [
    "az.summary(idata)"
   ]
  },
  {
   "cell_type": "code",
   "execution_count": null,
   "metadata": {},
   "outputs": [],
   "source": [
    "plot_post_prior_comparison(idata, list(priors.keys()), priors);"
   ]
  }
 ],
 "metadata": {
  "kernelspec": {
   "display_name": "renewal-analysis",
   "language": "python",
   "name": "renewal-analysis"
  },
  "language_info": {
   "codemirror_mode": {
    "name": "ipython",
    "version": 3
   },
   "file_extension": ".py",
   "mimetype": "text/x-python",
   "name": "python",
   "nbconvert_exporter": "python",
   "pygments_lexer": "ipython3",
   "version": "3.10.14"
  }
 },
 "nbformat": 4,
 "nbformat_minor": 4
}
