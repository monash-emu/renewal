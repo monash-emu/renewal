{
 "cells": [
  {
   "cell_type": "markdown",
   "id": "0",
   "metadata": {},
   "source": [
    "## A simple renewal model\n",
    "To get started, we'll implement a renewal model \n",
    "that calculates incidence forward in time \n",
    "but ignores susceptible depletion and a varying reproduction number, \n",
    "such that we will consider:\n",
    "$$I_t = R_0\\sum_{\\tau<t} I_\\tau g_{t-\\tau}$$\n",
    "This notebook builds up this basic approach very slowly as an illustration of what we will be doing in the analysis notebook."
   ]
  },
  {
   "cell_type": "code",
   "execution_count": null,
   "id": "1",
   "metadata": {},
   "outputs": [],
   "source": [
    "from scipy.stats import gamma\n",
    "import numpy as np\n",
    "import pandas as pd\n",
    "pd.options.plotting.backend = \"plotly\""
   ]
  },
  {
   "cell_type": "markdown",
   "id": "2",
   "metadata": {
    "tags": []
   },
   "source": [
    "### Parameters\n",
    "We'll some arbitrary model parameters to get started."
   ]
  },
  {
   "cell_type": "code",
   "execution_count": null,
   "id": "3",
   "metadata": {},
   "outputs": [],
   "source": [
    "n_times = 20\n",
    "seed = 1.0\n",
    "r0 = 2.0\n",
    "incidence = np.zeros(n_times)\n",
    "incidence[0] = seed"
   ]
  },
  {
   "cell_type": "markdown",
   "id": "4",
   "metadata": {},
   "source": [
    "### Generation time\n",
    "Next, we'll get a distribution we can sensibly use for the generation time,\n",
    "which could represent an acute immunising respiratory infection."
   ]
  },
  {
   "cell_type": "code",
   "execution_count": null,
   "id": "5",
   "metadata": {},
   "outputs": [],
   "source": [
    "# Generation time summary statistics\n",
    "gen_mean = 5.0\n",
    "gen_sd = 1.5\n",
    "\n",
    "# Calculate equivalent parameters\n",
    "var = gen_sd ** 2.0\n",
    "scale = var / gen_mean\n",
    "a = gen_mean / scale\n",
    "gamma_params = {\"a\": a, \"scale\": scale}\n",
    "\n",
    "# Get the increment in the CDF\n",
    "# (i.e. the integral over the increment by one in the distribution)\n",
    "gen_time_densities = np.diff(gamma.cdf(range(n_times + 1), **gamma_params))\n",
    "\n",
    "pd.Series(gen_time_densities, index=range(n_times)).plot(labels={\"index\": \"time\", \"value\": \"density\"}).update_layout(showlegend=False)"
   ]
  },
  {
   "cell_type": "markdown",
   "id": "6",
   "metadata": {},
   "source": [
    "### Calculations\n",
    "Here, we're using native Python loops with pre-calculated generation times\n",
    "to be completely explicit (but slow).\n",
    "Note that the delay is specified as `t - tau - 1` because\n",
    "delay then starts from zero each time,\n",
    "which then indexes the first element of the generation time densities.\n",
    "As shown in the previous cell,\n",
    "the `gen_time_densities` is the integral of the probability\n",
    "density over each one-unit interval of the gamma distribution."
   ]
  },
  {
   "cell_type": "code",
   "execution_count": null,
   "id": "7",
   "metadata": {},
   "outputs": [],
   "source": [
    "for t in range(1, n_times):\n",
    "    val = 0\n",
    "    for tau in range(t):  # For each day preceding the day of interest\n",
    "        delay = t - tau - 1  # The generation time index for each preceding day to the day of interest\n",
    "        val += incidence[tau] * gen_time_densities[delay] * r0  # Calculate the incidence value\n",
    "    incidence[t] = val"
   ]
  },
  {
   "cell_type": "markdown",
   "id": "8",
   "metadata": {},
   "source": [
    "Get rid of one loop to get lists/arrays for the incidence and generation time distribution \n",
    "(and check that calculations are the same)."
   ]
  },
  {
   "cell_type": "code",
   "execution_count": null,
   "id": "9",
   "metadata": {},
   "outputs": [],
   "source": [
    "check_inc = np.zeros(n_times)\n",
    "check_inc[0] = seed\n",
    "for t in range(1, n_times):\n",
    "    delays = [t - tau - 1 for tau in range(t)]\n",
    "    gammas = gen_time_densities[delays]\n",
    "    check_inc[t] = (check_inc[:t] * gammas).sum() * r0\n",
    "assert max(incidence - check_inc) < 1e-10, \"Results diverging\""
   ]
  },
  {
   "cell_type": "markdown",
   "id": "10",
   "metadata": {},
   "source": [
    "We can get this down to a one-liner if preferred.\n",
    "The epidemic is going to just keep going up exponentially, of course, \n",
    "because $R_{0} > 1$ and there is no susceptible depletion."
   ]
  },
  {
   "cell_type": "code",
   "execution_count": null,
   "id": "11",
   "metadata": {},
   "outputs": [],
   "source": [
    "check_inc2 = np.zeros(n_times)\n",
    "check_inc2[0] = seed\n",
    "for t in range(1, n_times):\n",
    "    check_inc2[t] = (check_inc2[:t] * gen_time_densities[:t][::-1]).sum() * r0\n",
    "check_inc2\n",
    "assert max(incidence - check_inc2) < 1e-10, \"Results diverging\"\n",
    "axis_labels = {\"index\": \"day\", \"value\": \"incidence\"}\n",
    "pd.Series(incidence).plot(labels=axis_labels).update_layout(showlegend=False)"
   ]
  },
  {
   "cell_type": "markdown",
   "id": "12",
   "metadata": {},
   "source": [
    "Already some interesting phenomena are emerging, \n",
    "in that the humps are the generations of cases from the first seeding infection\n",
    "(which occurs at a single time point),\n",
    "which progressively smooth into one-another with generations of cases.\n",
    "\n",
    "### Threshold behaviour\n",
    "Next let's check that the threshold behaviour is approximately correct.\n",
    "We would expect a declining epidemic with $R_{0} < 1$ (even without\n",
    "susceptible depletion implemented yet)."
   ]
  },
  {
   "cell_type": "code",
   "execution_count": null,
   "id": "13",
   "metadata": {},
   "outputs": [],
   "source": [
    "low_r_inc = np.zeros(n_times)\n",
    "low_r_inc[0] = seed\n",
    "r0 = 0.8\n",
    "for t in range(1, n_times):\n",
    "    low_r_inc[t] = (low_r_inc[:t] * gen_time_densities[:t][::-1]).sum() * r0\n",
    "pd.Series(low_r_inc).plot(labels=axis_labels).update_layout(showlegend=False)"
   ]
  },
  {
   "cell_type": "markdown",
   "id": "14",
   "metadata": {},
   "source": [
    "## Susceptible depletion\n",
    "To add one layer of realism, we'll now start to think about susceptible depletion,\n",
    "considering the equation:\n",
    "$\\\\I_t = (1-\\frac{n_t}{N})R_0\\sum_{\\tau<t} I_{\\tau}g_{t-\\tau}$\n",
    "\n",
    "We'll now run the model with susceptible depletion,\n",
    "decrementing the susceptible population by the incidence at each step.\n",
    "We'll also zero out any negative values for the susceptibles\n",
    "that could occur if the time step is too large\n",
    "(which should be negligible for reasonable time step and parameter choices).\n",
    "We'll need a higher reproduction number to deplete \n",
    "the susceptible population within the time window we have."
   ]
  },
  {
   "cell_type": "code",
   "execution_count": null,
   "id": "15",
   "metadata": {},
   "outputs": [],
   "source": [
    "r0 = 6.0\n",
    "pop = 100.0\n",
    "deplete_inc = np.zeros(n_times)\n",
    "deplete_inc[0] = seed\n",
    "suscept = pop - seed\n",
    "for t in range(1, n_times):\n",
    "    suscept_prop = suscept / pop\n",
    "    infect_contribution_by_day = deplete_inc[:t] * gen_time_densities[:t][::-1] * r0\n",
    "    this_inc = infect_contribution_by_day.sum() * suscept_prop\n",
    "    deplete_inc[t] = this_inc\n",
    "    suscept = max(suscept - this_inc, 0.0)\n",
    "pd.Series(deplete_inc).plot(labels=axis_labels).update_layout(showlegend=False)"
   ]
  },
  {
   "cell_type": "markdown",
   "id": "16",
   "metadata": {},
   "source": [
    "Now with susceptible depletion, we have an epi-curve that goes up in the initial phase with $R_0 > 1$,\n",
    "but comes back down as susceptibles are depleted and so $R_t$ falls below one."
   ]
  },
  {
   "cell_type": "markdown",
   "id": "17",
   "metadata": {},
   "source": [
    "## Varying the reproduction number\n",
    "Building on the previous cells and including susceptible depletion,\n",
    "we'll now look at varying the reproduction number with time,\n",
    "because inferring the variation in this quantity is what\n",
    "we're aiming to achieve from these models.\n",
    "\n",
    "As previously, the equation we're considering will be:\n",
    "$\\\\I_t = (1-\\frac{n_t}{N})R_t\\sum_{\\tau<t} I_{\\tau}g_{t-\\tau}$\n",
    "However, now the $R_{t}$ value is determined both\n",
    "by the proportion of the population remaining susceptible\n",
    "and an extrinsic variable (\"random\") process.\n",
    "At this stage, the process will be arbitrary values,\n",
    "and there are several functions that could be used \n",
    "at this stage (including a random walk and an \n",
    "autoregressive process).\n",
    "\n",
    "Set model parameters, now including the population size.\n",
    "Also get the generation times as previously.\n",
    "Run the model with susceptible depletion,\n",
    "and a variable reproduction number.\n",
    "Now we can manipulate the shape of the epicurve a little more."
   ]
  },
  {
   "cell_type": "code",
   "execution_count": null,
   "id": "18",
   "metadata": {},
   "outputs": [],
   "source": [
    "var_r_inc = np.zeros(n_times)\n",
    "var_r_inc[0] = seed\n",
    "process_req = [2.0, 1.2, 2.4, 1.8]\n",
    "process_times = np.linspace(0.0, n_times, len(process_req))\n",
    "process_vals = np.interp(range(n_times), process_times, process_req)\n",
    "suscept = pop - seed\n",
    "for t in range(1, n_times):\n",
    "    suscept_prop = suscept / pop\n",
    "    infect_contribution_by_day = var_r_inc[:t] * gen_time_densities[:t][::-1] * r0\n",
    "    this_inc = infect_contribution_by_day.sum() * suscept_prop * process_vals[t]\n",
    "    var_r_inc[t] = this_inc\n",
    "    suscept = max(suscept - this_inc, 0.0)\n",
    "pd.Series(var_r_inc).plot(labels=axis_labels).update_layout(showlegend=False)"
   ]
  },
  {
   "cell_type": "markdown",
   "id": "19",
   "metadata": {},
   "source": [
    "Alternatively, we may wish to use the log process values\n",
    "rather than the straight linear parameters,\n",
    "but we can get the same result back this way.\n",
    "This is actually the approach we'll be using in the \n",
    "presented analyses."
   ]
  },
  {
   "cell_type": "code",
   "execution_count": null,
   "id": "20",
   "metadata": {},
   "outputs": [],
   "source": [
    "check_var_inc = np.zeros(n_times)\n",
    "check_var_inc[0] = seed\n",
    "log_process_vals = np.log(np.interp(range(n_times), process_times, process_req))\n",
    "suscept = pop - seed\n",
    "for t in range(1, n_times):\n",
    "    suscept_prop = suscept / pop\n",
    "    infect_contribution_by_day = check_var_inc[:t] * gen_time_densities[:t][::-1] * r0\n",
    "    this_inc = infect_contribution_by_day.sum() * suscept_prop * np.exp(log_process_vals[t])\n",
    "    check_var_inc[t] = this_inc\n",
    "    suscept = max(suscept - this_inc, 0.0)\n",
    "assert max(var_r_inc - check_var_inc) < 1e-3, \"Results diverging\""
   ]
  }
 ],
 "metadata": {
  "kernelspec": {
   "display_name": "Python 3 (ipykernel)",
   "language": "python",
   "name": "python3"
  },
  "language_info": {
   "codemirror_mode": {
    "name": "ipython",
    "version": 3
   },
   "file_extension": ".py",
   "mimetype": "text/x-python",
   "name": "python",
   "nbconvert_exporter": "python",
   "pygments_lexer": "ipython3",
   "version": "3.10.13"
  }
 },
 "nbformat": 4,
 "nbformat_minor": 5
}
