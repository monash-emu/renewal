{
 "cells": [
  {
   "cell_type": "markdown",
   "id": "a7b992de-4d13-4d72-8c6e-f1d618cdb681",
   "metadata": {},
   "source": [
    "The following code was run on 23\n",
    "/10/24 to generate the Australian hospitalisation data CSV file."
   ]
  },
  {
   "cell_type": "code",
   "execution_count": 1,
   "id": "4ccf6338-b038-4f70-8b7d-e6b10989d38f",
   "metadata": {},
   "outputs": [],
   "source": [
    "import pandas as pd"
   ]
  },
  {
   "cell_type": "code",
   "execution_count": 2,
   "id": "d9768231-14c0-4582-8b54-6d270f6f8721",
   "metadata": {},
   "outputs": [],
   "source": [
    "hosp_url = \"https://raw.githubusercontent.com/owid/covid-19-data/refs/heads/master/public/data/hospitalizations/covid-hospitalizations.csv\"\n",
    "hosp = pd.read_csv(hosp_url, index_col=\"date\")\n",
    "hosp.index = pd.to_datetime(hosp.index)\n",
    "aust_data = hosp[hosp[\"entity\"] == \"Australia\"]\n",
    "aust_hosp = aust_data.loc[aust_data[\"indicator\"] == \"Daily hospital occupancy\", \"value\"]"
   ]
  },
  {
   "cell_type": "code",
   "execution_count": 4,
   "id": "80d9deb1",
   "metadata": {},
   "outputs": [],
   "source": [
    "aust_hosp.to_csv(\"../data/covid_aus/hosp.csv\")"
   ]
  }
 ],
 "metadata": {
  "kernelspec": {
   "display_name": "jax310",
   "language": "python",
   "name": "python3"
  },
  "language_info": {
   "codemirror_mode": {
    "name": "ipython",
    "version": 3
   },
   "file_extension": ".py",
   "mimetype": "text/x-python",
   "name": "python",
   "nbconvert_exporter": "python",
   "pygments_lexer": "ipython3",
   "version": "3.10.10"
  }
 },
 "nbformat": 4,
 "nbformat_minor": 5
}
