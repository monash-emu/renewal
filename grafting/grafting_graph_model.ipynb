{
  "cells": [
    {
      "cell_type": "code",
      "source": [
        "!pip install summerepi2\n",
        "\n",
        "# These 2 installs get our nicely laid out plots below...\n",
        "!apt install libgraphviz-dev\n",
        "!pip install pygraphviz"
      ],
      "metadata": {
        "id": "ydAqLFfGdSxi"
      },
      "id": "ydAqLFfGdSxi",
      "execution_count": null,
      "outputs": []
    },
    {
      "cell_type": "code",
      "execution_count": null,
      "id": "0",
      "metadata": {
        "id": "0"
      },
      "outputs": [],
      "source": [
        "import pandas as pd\n",
        "from datetime import datetime, timedelta\n",
        "import random\n",
        "from summer2.utils import Epoch\n",
        "import networkx as nx"
      ]
    },
    {
      "cell_type": "code",
      "source": [
        "import numpy as np"
      ],
      "metadata": {
        "id": "3b51G9DFez1v"
      },
      "id": "3b51G9DFez1v",
      "execution_count": null,
      "outputs": []
    },
    {
      "cell_type": "code",
      "execution_count": null,
      "id": "1",
      "metadata": {
        "id": "1"
      },
      "outputs": [],
      "source": [
        "def get_random_dates(start_time, n_cases, epidemic_duration):\n",
        "    \"\"\"Generate random onset dates for cases.\n",
        "    \"\"\"\n",
        "    date_ints = random.sample(range(epidemic_duration), n_cases)\n",
        "    return [start_time + timedelta(days=i_time) for i_time in date_ints]\n",
        "\n",
        "def get_dates_df_from_list(dates_list):\n",
        "    \"\"\"Dataframe with every subsequent case infected by the first one.\n",
        "    \"\"\"\n",
        "    case_data_df = pd.DataFrame(sorted(dates_list), columns=[\"date\"])\n",
        "    case_data_df[\"infector\"] = 0\n",
        "    return case_data_df\n",
        "\n",
        "def generate_random_infectors(cases_df):\n",
        "    \"\"\"Randomly assign each case a preceding infector.\n",
        "    \"\"\"\n",
        "    for i_case in cases_df.index[1:]:\n",
        "        cases_df.loc[i_case, \"infector\"] = random.randint(0, i_case - 1)\n",
        "\n",
        "def get_infector_graph(df):\n",
        "    \"\"\"Plot infection process graph from dataframe with standard format.\n",
        "    \"\"\"\n",
        "    graph = nx.DiGraph()\n",
        "    graph.add_nodes_from(df.index)\n",
        "    graph.add_edges_from(list(zip(df[\"infector\"], df.index))[1:])\n",
        "    return graph\n",
        "\n",
        "def draw_infector_graph(dates, graph):\n",
        "    \"\"\"Draw the graph created by the previous function.\n",
        "    \"\"\"\n",
        "    positions = [(n, 0) for n in epoch.dti_to_index(dates)]\n",
        "    nx.draw(graph, positions, with_labels=True, connectionstyle=\"arc3, rad=1\", node_size=400)"
      ]
    },
    {
      "cell_type": "code",
      "source": [
        "rng = np.random.default_rng(0)\n",
        "\n",
        "g = nx.DiGraph()\n",
        "g.add_node(0, infector=None, date=datetime(2000,1,1))\n",
        "\n",
        "infection_rate = 0.6\n",
        "\n",
        "for d in range(1,30):\n",
        "  cur_dt = datetime(2000,1,1) + timedelta(days=d)\n",
        "  n_new_inf = int(np.round(rng.uniform() * len(g) * (1.0-len(g)/50.0) * infection_rate))\n",
        "\n",
        "  if (n_new_inf + len(g)) > 50:\n",
        "    n_new_inf = 50 - len(g)\n",
        "\n",
        "  infectors = rng.choice(np.arange(len(g)),n_new_inf)\n",
        "\n",
        "  new_patient_ids = np.arange(len(g),len(g)+n_new_inf)\n",
        "  g.add_nodes_from(new_patient_ids, infector=infectors,date=cur_dt)\n",
        "  g.add_edges_from(zip(infectors,new_patient_ids))\n",
        "\n"
      ],
      "metadata": {
        "id": "wA6cdc3YFjbc"
      },
      "id": "wA6cdc3YFjbc",
      "execution_count": null,
      "outputs": []
    },
    {
      "cell_type": "code",
      "source": [
        "draw_infector_graph(pd.Series(nx.get_node_attributes(g, \"date\")), g)\n"
      ],
      "metadata": {
        "id": "KD2pfcUhZLRf"
      },
      "id": "KD2pfcUhZLRf",
      "execution_count": null,
      "outputs": []
    },
    {
      "cell_type": "code",
      "source": [
        "positions = nx.nx_agraph.graphviz_layout(g, prog=\"dot\")\n",
        "nx.draw(g, positions, with_labels=True, node_size=400)#connectionstyle=\"arc3, rad=1\", node_size=400)"
      ],
      "metadata": {
        "id": "Wg7tckVyHiri"
      },
      "id": "Wg7tckVyHiri",
      "execution_count": null,
      "outputs": []
    },
    {
      "cell_type": "code",
      "source": [
        "id = 25\n",
        "nx.get_node_attributes(g.subgraph(nx.ancestors(g, id) | {id}),\"date\")"
      ],
      "metadata": {
        "id": "ULPH8hvvMlxm"
      },
      "id": "ULPH8hvvMlxm",
      "execution_count": null,
      "outputs": []
    },
    {
      "cell_type": "code",
      "execution_count": null,
      "id": "2",
      "metadata": {
        "id": "2"
      },
      "outputs": [],
      "source": [
        "epoch = Epoch(datetime(2019, 12, 31))\n",
        "case_dates = get_random_dates(datetime(2020, 1, 1), 10, 400)\n",
        "case_data_df = get_dates_df_from_list(case_dates)\n",
        "generate_random_infectors(case_data_df)\n",
        "graph = get_infector_graph(case_data_df)\n",
        "draw_infector_graph(case_data_df[\"date\"], graph)"
      ]
    },
    {
      "cell_type": "code",
      "source": [],
      "metadata": {
        "id": "gQGjLrPAdtkP"
      },
      "id": "gQGjLrPAdtkP",
      "execution_count": null,
      "outputs": []
    }
  ],
  "metadata": {
    "kernelspec": {
      "display_name": "Python 3 (ipykernel)",
      "language": "python",
      "name": "python3"
    },
    "language_info": {
      "codemirror_mode": {
        "name": "ipython",
        "version": 3
      },
      "file_extension": ".py",
      "mimetype": "text/x-python",
      "name": "python",
      "nbconvert_exporter": "python",
      "pygments_lexer": "ipython3",
      "version": "3.10.13"
    },
    "colab": {
      "provenance": []
    }
  },
  "nbformat": 4,
  "nbformat_minor": 5
}