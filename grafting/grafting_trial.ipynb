{
 "cells": [
  {
   "cell_type": "code",
   "execution_count": null,
   "id": "0",
   "metadata": {},
   "outputs": [],
   "source": [
    "import pandas as pd\n",
    "from datetime import datetime, timedelta\n",
    "import random\n",
    "from summer2.utils import Epoch\n",
    "import networkx as nx\n",
    "import numpy as np"
   ]
  },
  {
   "cell_type": "code",
   "execution_count": null,
   "id": "1",
   "metadata": {},
   "outputs": [],
   "source": [
    "def get_random_dates(start_time, n_cases, epidemic_duration):\n",
    "    \"\"\"Generate random onset dates for cases.\n",
    "    \"\"\"\n",
    "    date_ints = random.sample(range(epidemic_duration), n_cases)\n",
    "    return [start_time + timedelta(days=i_time) for i_time in date_ints]\n",
    "\n",
    "def get_dates_df_from_list(dates_list):\n",
    "    \"\"\"Dataframe with every subsequent case infected by the first one.\n",
    "    \"\"\"\n",
    "    case_data_df = pd.DataFrame(sorted(dates_list), columns=[\"date\"])\n",
    "    case_data_df[\"infector\"] = 0\n",
    "    return case_data_df\n",
    "\n",
    "def generate_random_infectors(cases_df):\n",
    "    \"\"\"Randomly assign each case a preceding infector.\n",
    "    \"\"\"\n",
    "    for i_case in cases_df.index[1:]:\n",
    "        cases_df.loc[i_case, \"infector\"] = random.randint(0, i_case - 1)\n",
    "\n",
    "def get_infector_graph(df):\n",
    "    \"\"\"Plot infection process graph from dataframe with standard format.\n",
    "    \"\"\"\n",
    "    graph = nx.DiGraph()\n",
    "    graph.add_nodes_from(df.index)\n",
    "    graph.add_edges_from(list(zip(df[\"infector\"], df.index))[1:])\n",
    "    return graph\n",
    "\n",
    "def draw_infector_graph(df, graph, epoch):\n",
    "    \"\"\"Draw the graph created by the previous function.\n",
    "    \"\"\"\n",
    "    positions = [(n, 0) for n in epoch.dti_to_index(df[\"date\"])]\n",
    "    nx.draw(graph, positions, with_labels=True, connectionstyle=\"arc3, rad=1\", node_size=400)"
   ]
  },
  {
   "cell_type": "code",
   "execution_count": null,
   "id": "2",
   "metadata": {},
   "outputs": [],
   "source": [
    "epoch = Epoch(datetime(2019, 12, 31))\n",
    "case_dates = get_random_dates(datetime(2020, 1, 1), 10, 400)\n",
    "case_data_df = get_dates_df_from_list(case_dates)\n",
    "generate_random_infectors(case_data_df)\n",
    "graph = get_infector_graph(case_data_df)\n",
    "draw_infector_graph(case_data_df, graph, epoch)"
   ]
  },
  {
   "cell_type": "code",
   "execution_count": null,
   "id": "3",
   "metadata": {},
   "outputs": [],
   "source": [
    "rng = np.random.default_rng(0)\n",
    "graph = nx.DiGraph()"
   ]
  },
  {
   "cell_type": "code",
   "execution_count": null,
   "id": "4",
   "metadata": {},
   "outputs": [],
   "source": [
    "epoch = Epoch(datetime(2019, 12, 31))\n",
    "duration = 10\n",
    "case_series = np.concatenate([np.array([1]), rng.integers(low=2, high=5, size=duration)])"
   ]
  },
  {
   "cell_type": "code",
   "execution_count": null,
   "id": "5",
   "metadata": {},
   "outputs": [],
   "source": [
    "positions = []"
   ]
  },
  {
   "cell_type": "code",
   "execution_count": null,
   "id": "6",
   "metadata": {},
   "outputs": [],
   "source": [
    "graph = nx.DiGraph()\n",
    "for date_int, new_cases in enumerate(case_series):\n",
    "    prev_graph_size = len(graph)\n",
    "    new_graph_size = len(graph) + new_cases\n",
    "    new_case_ids = range(prev_graph_size, new_graph_size)\n",
    "    positions += [(date_int, 0)] * len(new_case_ids)\n",
    "    graph.add_nodes_from(new_case_ids, time=date_int, date=epoch.number_to_datetime(date_int))\n",
    "    if date_int > 0:\n",
    "        infectors = rng.choice(np.arange(prev_graph_size), new_cases)\n",
    "        graph.add_edges_from(zip(infectors, new_case_ids))\n",
    "\n",
    "nx.draw(graph, positions, with_labels=True, connectionstyle=\"arc3, rad=1\", node_size=400)"
   ]
  },
  {
   "cell_type": "code",
   "execution_count": null,
   "id": "7",
   "metadata": {},
   "outputs": [],
   "source": [
    "case = 10\n",
    "nx.get_node_attributes(graph.subgraph(nx.ancestors(graph, case) | {case}),\"date\")"
   ]
  }
 ],
 "metadata": {
  "kernelspec": {
   "display_name": "Python 3 (ipykernel)",
   "language": "python",
   "name": "python3"
  },
  "language_info": {
   "codemirror_mode": {
    "name": "ipython",
    "version": 3
   },
   "file_extension": ".py",
   "mimetype": "text/x-python",
   "name": "python",
   "nbconvert_exporter": "python",
   "pygments_lexer": "ipython3",
   "version": "3.10.13"
  }
 },
 "nbformat": 4,
 "nbformat_minor": 5
}
