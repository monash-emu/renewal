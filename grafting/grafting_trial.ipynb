{
 "cells": [
  {
   "cell_type": "code",
   "execution_count": null,
   "id": "0",
   "metadata": {},
   "outputs": [],
   "source": [
    "import pandas as pd\n",
    "from datetime import datetime, timedelta\n",
    "import random"
   ]
  },
  {
   "cell_type": "code",
   "execution_count": null,
   "id": "1",
   "metadata": {},
   "outputs": [],
   "source": [
    "def get_random_dates(start_time, n_cases, epidemic_duration):\n",
    "    \"\"\"Generate random onset dates for cases.\n",
    "    \"\"\"\n",
    "    date_ints = random.sample(range(epidemic_duration), n_cases)\n",
    "    return [start_time + timedelta(days=i_time) for i_time in date_ints]\n",
    "\n",
    "def get_dates_df_from_list(dates_list):\n",
    "    \"\"\"Dataframe with every subsequent case infected by the first one.\n",
    "    \"\"\"\n",
    "    case_data_df = pd.DataFrame(sorted(dates_list), columns=[\"date\"])\n",
    "    case_data_df[\"infector\"] = 0\n",
    "    return case_data_df\n",
    "\n",
    "def generate_random_infectors(cases_df):\n",
    "    \"\"\"Randomly assign each case a preceding infector.\n",
    "    \"\"\"\n",
    "    for i_case in cases_df.index[1:]:\n",
    "        cases_df.loc[i_case, \"infector\"] = random.randint(0, i_case - 1)"
   ]
  },
  {
   "cell_type": "code",
   "execution_count": null,
   "id": "2",
   "metadata": {},
   "outputs": [],
   "source": [
    "case_dates = get_random_dates(datetime(2020, 1, 1), 20, 100)\n",
    "case_data_df = get_dates_df_from_list(case_dates)\n",
    "generate_random_infectors(case_data_df)\n",
    "case_data_df"
   ]
  },
  {
   "cell_type": "code",
   "execution_count": null,
   "id": "3",
   "metadata": {},
   "outputs": [],
   "source": [
    "case_data_df[\"generation_time\"] = case_data_df.index - case_data_df[\"infector\"]"
   ]
  },
  {
   "cell_type": "code",
   "execution_count": null,
   "id": "4",
   "metadata": {},
   "outputs": [],
   "source": [
    "import networkx as nx\n",
    "G = nx.DiGraph()\n",
    "for index, row in case_data_df.iterrows():\n",
    "    G.add_node(row[\"infector\"])  # Add preceding case as node\n",
    "    G.add_node(index)\n",
    "    G.add_edge(row[\"infector\"], index, length=row[\"generation_time\"]) \n",
    "\n",
    "pos = {}\n",
    "for index, node in enumerate(G.nodes()):\n",
    "    pos[node] = (case_data_df.loc[index, \"date\"], node)\n",
    "nx.draw(G, pos, node_size=40)"
   ]
  }
 ],
 "metadata": {
  "kernelspec": {
   "display_name": "Python 3 (ipykernel)",
   "language": "python",
   "name": "python3"
  },
  "language_info": {
   "codemirror_mode": {
    "name": "ipython",
    "version": 3
   },
   "file_extension": ".py",
   "mimetype": "text/x-python",
   "name": "python",
   "nbconvert_exporter": "python",
   "pygments_lexer": "ipython3",
   "version": "3.10.13"
  }
 },
 "nbformat": 4,
 "nbformat_minor": 5
}
