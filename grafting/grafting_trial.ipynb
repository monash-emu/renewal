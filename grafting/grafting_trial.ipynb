{
 "cells": [
  {
   "cell_type": "code",
   "execution_count": null,
   "id": "0",
   "metadata": {},
   "outputs": [],
   "source": [
    "from datetime import datetime\n",
    "from summer2.utils import Epoch\n",
    "import networkx as nx\n",
    "import numpy as np"
   ]
  },
  {
   "cell_type": "code",
   "execution_count": null,
   "id": "1",
   "metadata": {},
   "outputs": [],
   "source": [
    "def build_graph_from_timeseries(case_series):\n",
    "    \"\"\"Build directed acyclic graph with random connections from time series.\n",
    "    \"\"\"\n",
    "    graph = nx.DiGraph()\n",
    "    for date_int, new_cases in enumerate(case_series):\n",
    "        prev_size = len(graph)\n",
    "        new_ids = range(prev_size, len(graph) + new_cases)\n",
    "        graph.add_nodes_from(new_ids, time=date_int, date=epoch.number_to_datetime(date_int))\n",
    "        if date_int > 0:\n",
    "            infectors = rng.choice(np.arange(prev_size), new_cases)\n",
    "            graph.add_edges_from(zip(infectors, new_ids))\n",
    "    return graph\n",
    "\n",
    "def get_data_from_graph(graph, field_name):\n",
    "    \"\"\"Get the data from a particular field from the nodes of a graph.\n",
    "    \"\"\"\n",
    "    return list(dict(graph.nodes.data(field_name)).values())"
   ]
  },
  {
   "cell_type": "code",
   "execution_count": null,
   "id": "2",
   "metadata": {},
   "outputs": [],
   "source": [
    "rng = np.random.default_rng(0)\n",
    "epoch = Epoch(datetime(2019, 12, 31))\n",
    "duration = 10\n",
    "case_series = np.concatenate([np.array([1]), rng.integers(5, size=duration)])  # Random time series starting from one case"
   ]
  },
  {
   "cell_type": "code",
   "execution_count": null,
   "id": "3",
   "metadata": {},
   "outputs": [],
   "source": [
    "graph = build_graph_from_timeseries(case_series)\n",
    "positions = list(zip(get_data_from_graph(graph, \"time\"), [0] * len(graph)))\n",
    "nx.draw(graph, positions, with_labels=True, connectionstyle=\"arc3, rad=1\", node_size=400)"
   ]
  },
  {
   "cell_type": "code",
   "execution_count": null,
   "id": "4",
   "metadata": {},
   "outputs": [],
   "source": [
    "case = 10\n",
    "nx.get_node_attributes(graph.subgraph(nx.ancestors(graph, case) | {case}),\"date\")"
   ]
  }
 ],
 "metadata": {
  "kernelspec": {
   "display_name": "Python 3 (ipykernel)",
   "language": "python",
   "name": "python3"
  },
  "language_info": {
   "codemirror_mode": {
    "name": "ipython",
    "version": 3
   },
   "file_extension": ".py",
   "mimetype": "text/x-python",
   "name": "python",
   "nbconvert_exporter": "python",
   "pygments_lexer": "ipython3",
   "version": "3.10.13"
  }
 },
 "nbformat": 4,
 "nbformat_minor": 5
}
